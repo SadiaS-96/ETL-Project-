{
 "cells": [
  {
   "cell_type": "code",
   "execution_count": 1,
   "metadata": {},
   "outputs": [],
   "source": [
    "import pandas as pd "
   ]
  },
  {
   "cell_type": "markdown",
   "metadata": {},
   "source": [
    "# Import and Clean Scrapped Data"
   ]
  },
  {
   "cell_type": "markdown",
   "metadata": {},
   "source": [
    "### Apple"
   ]
  },
  {
   "cell_type": "code",
   "execution_count": 2,
   "metadata": {},
   "outputs": [],
   "source": [
    "#Import scapped data\n",
    "apple_csv = 'Apple/apple_top_100.csv'\n",
    "apple = pd.read_csv(apple_csv)"
   ]
  },
  {
   "cell_type": "code",
   "execution_count": 3,
   "metadata": {},
   "outputs": [
    {
     "data": {
      "text/html": [
       "<div>\n",
       "<style scoped>\n",
       "    .dataframe tbody tr th:only-of-type {\n",
       "        vertical-align: middle;\n",
       "    }\n",
       "\n",
       "    .dataframe tbody tr th {\n",
       "        vertical-align: top;\n",
       "    }\n",
       "\n",
       "    .dataframe thead th {\n",
       "        text-align: right;\n",
       "    }\n",
       "</style>\n",
       "<table border=\"1\" class=\"dataframe\">\n",
       "  <thead>\n",
       "    <tr style=\"text-align: right;\">\n",
       "      <th></th>\n",
       "      <th>rank</th>\n",
       "      <th>Apple Song</th>\n",
       "      <th>Apple Artist</th>\n",
       "    </tr>\n",
       "  </thead>\n",
       "  <tbody>\n",
       "    <tr>\n",
       "      <th>0</th>\n",
       "      <td>1</td>\n",
       "      <td>The Box</td>\n",
       "      <td>Roddy Ricch</td>\n",
       "    </tr>\n",
       "    <tr>\n",
       "      <th>1</th>\n",
       "      <td>2</td>\n",
       "      <td>That Way</td>\n",
       "      <td>Lil Uzi Vert</td>\n",
       "    </tr>\n",
       "    <tr>\n",
       "      <th>2</th>\n",
       "      <td>3</td>\n",
       "      <td>Commercial (feat. Lil Uzi Vert)</td>\n",
       "      <td>Lil Baby</td>\n",
       "    </tr>\n",
       "    <tr>\n",
       "      <th>3</th>\n",
       "      <td>4</td>\n",
       "      <td>Heatin Up</td>\n",
       "      <td>Lil Baby &amp; Gunna</td>\n",
       "    </tr>\n",
       "    <tr>\n",
       "      <th>4</th>\n",
       "      <td>5</td>\n",
       "      <td>Blinding Lights</td>\n",
       "      <td>The Weeknd</td>\n",
       "    </tr>\n",
       "    <tr>\n",
       "      <th>...</th>\n",
       "      <td>...</td>\n",
       "      <td>...</td>\n",
       "      <td>...</td>\n",
       "    </tr>\n",
       "    <tr>\n",
       "      <th>95</th>\n",
       "      <td>96</td>\n",
       "      <td>Solid</td>\n",
       "      <td>Lil Baby</td>\n",
       "    </tr>\n",
       "    <tr>\n",
       "      <th>96</th>\n",
       "      <td>97</td>\n",
       "      <td>To Die For</td>\n",
       "      <td>Sam Smith</td>\n",
       "    </tr>\n",
       "    <tr>\n",
       "      <th>97</th>\n",
       "      <td>98</td>\n",
       "      <td>Glass in the Face (feat. A Boogie wit da Hoo...</td>\n",
       "      <td>G Herbo</td>\n",
       "    </tr>\n",
       "    <tr>\n",
       "      <th>98</th>\n",
       "      <td>99</td>\n",
       "      <td>Puesto Pa' Guerrial</td>\n",
       "      <td>Bad Bunny &amp; Myke Towers</td>\n",
       "    </tr>\n",
       "    <tr>\n",
       "      <th>99</th>\n",
       "      <td>100</td>\n",
       "      <td>Roses (Imanbek Remix)</td>\n",
       "      <td>SAINt JHN</td>\n",
       "    </tr>\n",
       "  </tbody>\n",
       "</table>\n",
       "<p>100 rows × 3 columns</p>\n",
       "</div>"
      ],
      "text/plain": [
       "    rank                                         Apple Song  \\\n",
       "0      1                                            The Box   \n",
       "1      2                                           That Way   \n",
       "2      3                    Commercial (feat. Lil Uzi Vert)   \n",
       "3      4                                          Heatin Up   \n",
       "4      5                                    Blinding Lights   \n",
       "..   ...                                                ...   \n",
       "95    96                                              Solid   \n",
       "96    97                                         To Die For   \n",
       "97    98    Glass in the Face (feat. A Boogie wit da Hoo...   \n",
       "98    99                                Puesto Pa' Guerrial   \n",
       "99   100                              Roses (Imanbek Remix)   \n",
       "\n",
       "               Apple Artist  \n",
       "0               Roddy Ricch  \n",
       "1              Lil Uzi Vert  \n",
       "2                  Lil Baby  \n",
       "3          Lil Baby & Gunna  \n",
       "4                The Weeknd  \n",
       "..                      ...  \n",
       "95                 Lil Baby  \n",
       "96                Sam Smith  \n",
       "97                  G Herbo  \n",
       "98  Bad Bunny & Myke Towers  \n",
       "99                SAINt JHN  \n",
       "\n",
       "[100 rows x 3 columns]"
      ]
     },
     "execution_count": 3,
     "metadata": {},
     "output_type": "execute_result"
    }
   ],
   "source": [
    "#Rename columns\n",
    "apple_df = apple.rename(columns = {\"Unnamed: 0\":\"rank\",\n",
    "                                 \"Track\":\"Apple Song\",\n",
    "                                 \"Artist\":\"Apple Artist\"})\n",
    "#Remove line breaks\n",
    "apple_df = apple_df.replace('\\n','', regex=True)\n",
    "\n",
    "apple_df"
   ]
  },
  {
   "cell_type": "code",
   "execution_count": 4,
   "metadata": {},
   "outputs": [],
   "source": [
    "#creating the html table of apple\n",
    "Apple_html_table=Apple_df.to_html()\n",
    "Apple_html_table"
   ]
  },
  {
   "cell_type": "code",
   "execution_count": 5,
   "metadata": {},
   "outputs": [],
   "source": [
    "#stripping unwanted newlines to clean up the data\n",
    "Apple_html_table.replace('\\n','')"
   ]
  },
  {
   "cell_type": "code",
   "execution_count": 6,
   "metadata": {},
   "outputs": [],
   "source": [
    "#creating an html table\n",
    "Apple_df.to_html('Apple Table')"
   ]
  },
  {
   "cell_type": "markdown",
   "metadata": {},
   "source": [
    "### Billboard"
   ]
  },
  {
   "cell_type": "code",
   "execution_count": 7,
   "metadata": {
    "scrolled": true
   },
   "outputs": [],
   "source": [
    "#Import scapped data\n",
    "billboard_csv = \"Billboard/billboard_top_200.csv\"\n",
    "billboard = pd.read_csv(billboard_csv)"
   ]
  },
  {
   "cell_type": "code",
   "execution_count": 8,
   "metadata": {},
   "outputs": [
    {
     "data": {
      "text/html": [
       "<div>\n",
       "<style scoped>\n",
       "    .dataframe tbody tr th:only-of-type {\n",
       "        vertical-align: middle;\n",
       "    }\n",
       "\n",
       "    .dataframe tbody tr th {\n",
       "        vertical-align: top;\n",
       "    }\n",
       "\n",
       "    .dataframe thead th {\n",
       "        text-align: right;\n",
       "    }\n",
       "</style>\n",
       "<table border=\"1\" class=\"dataframe\">\n",
       "  <thead>\n",
       "    <tr style=\"text-align: right;\">\n",
       "      <th></th>\n",
       "      <th>rank</th>\n",
       "      <th>Billboard Artist</th>\n",
       "      <th>Billboard Song</th>\n",
       "    </tr>\n",
       "  </thead>\n",
       "  <tbody>\n",
       "    <tr>\n",
       "      <th>0</th>\n",
       "      <td>1</td>\n",
       "      <td>BTS</td>\n",
       "      <td>MAP OF THE SOUL : 7</td>\n",
       "    </tr>\n",
       "    <tr>\n",
       "      <th>1</th>\n",
       "      <td>2</td>\n",
       "      <td>YoungBoy Never Broke Again</td>\n",
       "      <td>Still Flexin, Still Steppin</td>\n",
       "    </tr>\n",
       "    <tr>\n",
       "      <th>2</th>\n",
       "      <td>3</td>\n",
       "      <td>Ozzy Osbourne</td>\n",
       "      <td>Ordinary Man</td>\n",
       "    </tr>\n",
       "    <tr>\n",
       "      <th>3</th>\n",
       "      <td>4</td>\n",
       "      <td>Justin Bieber</td>\n",
       "      <td>Changes</td>\n",
       "    </tr>\n",
       "    <tr>\n",
       "      <th>4</th>\n",
       "      <td>5</td>\n",
       "      <td>Roddy Ricch</td>\n",
       "      <td>Please Excuse Me For Being Antisocial</td>\n",
       "    </tr>\n",
       "  </tbody>\n",
       "</table>\n",
       "</div>"
      ],
      "text/plain": [
       "   rank            Billboard Artist                         Billboard Song\n",
       "0     1                         BTS                    MAP OF THE SOUL : 7\n",
       "1     2  YoungBoy Never Broke Again            Still Flexin, Still Steppin\n",
       "2     3               Ozzy Osbourne                           Ordinary Man\n",
       "3     4               Justin Bieber                                Changes\n",
       "4     5                 Roddy Ricch  Please Excuse Me For Being Antisocial"
      ]
     },
     "execution_count": 8,
     "metadata": {},
     "output_type": "execute_result"
    }
   ],
   "source": [
    "#Rename columns\n",
    "billboard_df = billboard.rename(columns = {\"Unnamed: 0\":\"rank\",\n",
    "                                           \"Song\":\"Billboard Song\",\n",
    "                                           \"Artist\":\"Billboard Artist\"})\n",
    "#Keep only the 1st 100 rows\n",
    "billboard_df = billboard_df.head(100)\n",
    "\n",
    "#Drop the line breaks\n",
    "billboard_df = billboard_df.replace('\\n','', regex=True)\n",
    "\n",
    "billboard_df.head()"
   ]
  },
  {
   "cell_type": "code",
   "execution_count": 9,
   "metadata": {},
   "outputs": [],
   "source": [
    "#creating the html table of apple\n",
    "Billboard_html_table=Billboard_top_100_df.to_html()\n",
    "Billboard_html_table"
   ]
  },
  {
   "cell_type": "code",
   "execution_count": 10,
   "metadata": {},
   "outputs": [],
   "source": [
    "#stripping unwanted newlines to clean up the data\n",
    "Billboard_html_table.replace('\\n','')"
   ]
  },
  {
   "cell_type": "code",
   "execution_count": 11,
   "metadata": {},
   "outputs": [],
   "source": [
    "#creating an html table\n",
    "Billboard_df.to_html('Billboard_Table.html')"
   ]
  },
  {
   "cell_type": "markdown",
   "metadata": {},
   "source": [
    "### Spotify"
   ]
  },
  {
   "cell_type": "code",
   "execution_count": 13,
   "metadata": {},
   "outputs": [],
   "source": [
    "#Import CSV download\n",
    "spotify_csv = \"Spotify/spotify_top_200.csv\"\n",
    "spotify = pd.read_csv(spotify_csv)"
   ]
  },
  {
   "cell_type": "code",
   "execution_count": 14,
   "metadata": {},
   "outputs": [
    {
     "data": {
      "text/html": [
       "<div>\n",
       "<style scoped>\n",
       "    .dataframe tbody tr th:only-of-type {\n",
       "        vertical-align: middle;\n",
       "    }\n",
       "\n",
       "    .dataframe tbody tr th {\n",
       "        vertical-align: top;\n",
       "    }\n",
       "\n",
       "    .dataframe thead th {\n",
       "        text-align: right;\n",
       "    }\n",
       "</style>\n",
       "<table border=\"1\" class=\"dataframe\">\n",
       "  <thead>\n",
       "    <tr style=\"text-align: right;\">\n",
       "      <th></th>\n",
       "      <th>rank</th>\n",
       "      <th>Spotify Song</th>\n",
       "      <th>Spotify Artist</th>\n",
       "    </tr>\n",
       "  </thead>\n",
       "  <tbody>\n",
       "    <tr>\n",
       "      <th>0</th>\n",
       "      <td>1</td>\n",
       "      <td>Blinding Lights</td>\n",
       "      <td>The Weeknd</td>\n",
       "    </tr>\n",
       "    <tr>\n",
       "      <th>1</th>\n",
       "      <td>2</td>\n",
       "      <td>The Box</td>\n",
       "      <td>Roddy Ricch</td>\n",
       "    </tr>\n",
       "    <tr>\n",
       "      <th>2</th>\n",
       "      <td>3</td>\n",
       "      <td>Dance Monkey</td>\n",
       "      <td>Tones and I</td>\n",
       "    </tr>\n",
       "    <tr>\n",
       "      <th>3</th>\n",
       "      <td>4</td>\n",
       "      <td>Don't Start Now</td>\n",
       "      <td>Dua Lipa</td>\n",
       "    </tr>\n",
       "    <tr>\n",
       "      <th>4</th>\n",
       "      <td>5</td>\n",
       "      <td>Intentions (feat. Quavo)</td>\n",
       "      <td>Justin Bieber</td>\n",
       "    </tr>\n",
       "  </tbody>\n",
       "</table>\n",
       "</div>"
      ],
      "text/plain": [
       "   rank              Spotify Song Spotify Artist\n",
       "0     1           Blinding Lights     The Weeknd\n",
       "1     2                   The Box    Roddy Ricch\n",
       "2     3              Dance Monkey    Tones and I\n",
       "3     4           Don't Start Now       Dua Lipa\n",
       "4     5  Intentions (feat. Quavo)  Justin Bieber"
      ]
     },
     "execution_count": 14,
     "metadata": {},
     "output_type": "execute_result"
    }
   ],
   "source": [
    "#Rename columns\n",
    "spotify_df = spotify.rename(columns = {\"Position\":\"rank\",\n",
    "                                           \"Track Name\":\"Spotify Song\",\n",
    "                                           \"Artist\":\"Spotify Artist\"})\n",
    "#Keep 1st 100 rows only\n",
    "spotify_df = spotify_df.head(100)\n",
    "\n",
    "#Drop unwanted columns\n",
    "spotify_df=spotify_df.drop(columns=['Streams','URL'])\n",
    "\n",
    "spotify_df.head()"
   ]
  },
  {
   "cell_type": "code",
   "execution_count": 16,
   "metadata": {},
   "outputs": [],
   "source": [
    "#creating the html table of apple\n",
    "Spotify_html_table=Spotify_top_100.to_html()\n",
    "Spotify_html_table"
   ]
  },
  {
   "cell_type": "code",
   "execution_count": 18,
   "metadata": {},
   "outputs": [],
   "source": [
    "#creating an html table\n",
    "Spotify_top_100.to_html('table.html')"
   ]
  },
  {
   "cell_type": "markdown",
   "metadata": {},
   "source": [
    "# Join Dataframes"
   ]
  },
  {
   "cell_type": "code",
   "execution_count": 21,
   "metadata": {
    "scrolled": true
   },
   "outputs": [
    {
     "data": {
      "text/html": [
       "<div>\n",
       "<style scoped>\n",
       "    .dataframe tbody tr th:only-of-type {\n",
       "        vertical-align: middle;\n",
       "    }\n",
       "\n",
       "    .dataframe tbody tr th {\n",
       "        vertical-align: top;\n",
       "    }\n",
       "\n",
       "    .dataframe thead th {\n",
       "        text-align: right;\n",
       "    }\n",
       "</style>\n",
       "<table border=\"1\" class=\"dataframe\">\n",
       "  <thead>\n",
       "    <tr style=\"text-align: right;\">\n",
       "      <th></th>\n",
       "      <th>rank</th>\n",
       "      <th>Apple Song</th>\n",
       "      <th>Apple Artist</th>\n",
       "      <th>Billboard Artist</th>\n",
       "      <th>Billboard Song</th>\n",
       "      <th>Spotify Song</th>\n",
       "      <th>Spotify Artist</th>\n",
       "    </tr>\n",
       "  </thead>\n",
       "  <tbody>\n",
       "    <tr>\n",
       "      <th>0</th>\n",
       "      <td>1</td>\n",
       "      <td>The Box</td>\n",
       "      <td>Roddy Ricch</td>\n",
       "      <td>BTS</td>\n",
       "      <td>MAP OF THE SOUL : 7</td>\n",
       "      <td>Blinding Lights</td>\n",
       "      <td>The Weeknd</td>\n",
       "    </tr>\n",
       "    <tr>\n",
       "      <th>1</th>\n",
       "      <td>2</td>\n",
       "      <td>That Way</td>\n",
       "      <td>Lil Uzi Vert</td>\n",
       "      <td>YoungBoy Never Broke Again</td>\n",
       "      <td>Still Flexin, Still Steppin</td>\n",
       "      <td>The Box</td>\n",
       "      <td>Roddy Ricch</td>\n",
       "    </tr>\n",
       "    <tr>\n",
       "      <th>2</th>\n",
       "      <td>3</td>\n",
       "      <td>Commercial (feat. Lil Uzi Vert)</td>\n",
       "      <td>Lil Baby</td>\n",
       "      <td>Ozzy Osbourne</td>\n",
       "      <td>Ordinary Man</td>\n",
       "      <td>Dance Monkey</td>\n",
       "      <td>Tones and I</td>\n",
       "    </tr>\n",
       "    <tr>\n",
       "      <th>3</th>\n",
       "      <td>4</td>\n",
       "      <td>Heatin Up</td>\n",
       "      <td>Lil Baby &amp; Gunna</td>\n",
       "      <td>Justin Bieber</td>\n",
       "      <td>Changes</td>\n",
       "      <td>Don't Start Now</td>\n",
       "      <td>Dua Lipa</td>\n",
       "    </tr>\n",
       "    <tr>\n",
       "      <th>4</th>\n",
       "      <td>5</td>\n",
       "      <td>Blinding Lights</td>\n",
       "      <td>The Weeknd</td>\n",
       "      <td>Roddy Ricch</td>\n",
       "      <td>Please Excuse Me For Being Antisocial</td>\n",
       "      <td>Intentions (feat. Quavo)</td>\n",
       "      <td>Justin Bieber</td>\n",
       "    </tr>\n",
       "  </tbody>\n",
       "</table>\n",
       "</div>"
      ],
      "text/plain": [
       "   rank                         Apple Song      Apple Artist  \\\n",
       "0     1                            The Box       Roddy Ricch   \n",
       "1     2                           That Way      Lil Uzi Vert   \n",
       "2     3    Commercial (feat. Lil Uzi Vert)          Lil Baby   \n",
       "3     4                          Heatin Up  Lil Baby & Gunna   \n",
       "4     5                    Blinding Lights        The Weeknd   \n",
       "\n",
       "             Billboard Artist                         Billboard Song  \\\n",
       "0                         BTS                    MAP OF THE SOUL : 7   \n",
       "1  YoungBoy Never Broke Again            Still Flexin, Still Steppin   \n",
       "2               Ozzy Osbourne                           Ordinary Man   \n",
       "3               Justin Bieber                                Changes   \n",
       "4                 Roddy Ricch  Please Excuse Me For Being Antisocial   \n",
       "\n",
       "               Spotify Song Spotify Artist  \n",
       "0           Blinding Lights     The Weeknd  \n",
       "1                   The Box    Roddy Ricch  \n",
       "2              Dance Monkey    Tones and I  \n",
       "3           Don't Start Now       Dua Lipa  \n",
       "4  Intentions (feat. Quavo)  Justin Bieber  "
      ]
     },
     "execution_count": 21,
     "metadata": {},
     "output_type": "execute_result"
    }
   ],
   "source": [
    "#Join all platform dfs\n",
    "from functools import reduce\n",
    "platforms = [apple_df, billboard_df, spotify_df]\n",
    "all_df = reduce(lambda left,right: pd.merge(left,right,on='rank'), platforms)\n",
    "all_df.head()"
   ]
  },
  {
   "cell_type": "code",
   "execution_count": 24,
   "metadata": {},
   "outputs": [
    {
     "data": {
      "text/html": [
       "<div>\n",
       "<style scoped>\n",
       "    .dataframe tbody tr th:only-of-type {\n",
       "        vertical-align: middle;\n",
       "    }\n",
       "\n",
       "    .dataframe tbody tr th {\n",
       "        vertical-align: top;\n",
       "    }\n",
       "\n",
       "    .dataframe thead th {\n",
       "        text-align: right;\n",
       "    }\n",
       "</style>\n",
       "<table border=\"1\" class=\"dataframe\">\n",
       "  <thead>\n",
       "    <tr style=\"text-align: right;\">\n",
       "      <th></th>\n",
       "      <th>rank</th>\n",
       "      <th>apple</th>\n",
       "      <th>billboard</th>\n",
       "      <th>spotify</th>\n",
       "    </tr>\n",
       "  </thead>\n",
       "  <tbody>\n",
       "    <tr>\n",
       "      <th>0</th>\n",
       "      <td>1</td>\n",
       "      <td>The Box</td>\n",
       "      <td>MAP OF THE SOUL : 7</td>\n",
       "      <td>Blinding Lights</td>\n",
       "    </tr>\n",
       "    <tr>\n",
       "      <th>1</th>\n",
       "      <td>2</td>\n",
       "      <td>That Way</td>\n",
       "      <td>Still Flexin, Still Steppin</td>\n",
       "      <td>The Box</td>\n",
       "    </tr>\n",
       "    <tr>\n",
       "      <th>2</th>\n",
       "      <td>3</td>\n",
       "      <td>Commercial (feat. Lil Uzi Vert)</td>\n",
       "      <td>Ordinary Man</td>\n",
       "      <td>Dance Monkey</td>\n",
       "    </tr>\n",
       "    <tr>\n",
       "      <th>3</th>\n",
       "      <td>4</td>\n",
       "      <td>Heatin Up</td>\n",
       "      <td>Changes</td>\n",
       "      <td>Don't Start Now</td>\n",
       "    </tr>\n",
       "    <tr>\n",
       "      <th>4</th>\n",
       "      <td>5</td>\n",
       "      <td>Blinding Lights</td>\n",
       "      <td>Please Excuse Me For Being Antisocial</td>\n",
       "      <td>Intentions (feat. Quavo)</td>\n",
       "    </tr>\n",
       "  </tbody>\n",
       "</table>\n",
       "</div>"
      ],
      "text/plain": [
       "   rank                              apple  \\\n",
       "0     1                            The Box   \n",
       "1     2                           That Way   \n",
       "2     3    Commercial (feat. Lil Uzi Vert)   \n",
       "3     4                          Heatin Up   \n",
       "4     5                    Blinding Lights   \n",
       "\n",
       "                               billboard                   spotify  \n",
       "0                    MAP OF THE SOUL : 7           Blinding Lights  \n",
       "1            Still Flexin, Still Steppin                   The Box  \n",
       "2                           Ordinary Man              Dance Monkey  \n",
       "3                                Changes           Don't Start Now  \n",
       "4  Please Excuse Me For Being Antisocial  Intentions (feat. Quavo)  "
      ]
     },
     "execution_count": 24,
     "metadata": {},
     "output_type": "execute_result"
    }
   ],
   "source": [
    "#Normalize formatting for SQL\n",
    "top_songs = all_df[['rank','Apple Song','Billboard Song','Spotify Song']]\n",
    "top_songs = top_songs.rename(columns = {'Apple Song':'apple',\n",
    "                                        'Billboard Song':'billboard',\n",
    "                                        'Spotify Song':'spotify'})\n",
    "\n",
    "top_songs.head()"
   ]
  },
  {
   "cell_type": "code",
   "execution_count": 25,
   "metadata": {},
   "outputs": [
    {
     "data": {
      "text/html": [
       "<div>\n",
       "<style scoped>\n",
       "    .dataframe tbody tr th:only-of-type {\n",
       "        vertical-align: middle;\n",
       "    }\n",
       "\n",
       "    .dataframe tbody tr th {\n",
       "        vertical-align: top;\n",
       "    }\n",
       "\n",
       "    .dataframe thead th {\n",
       "        text-align: right;\n",
       "    }\n",
       "</style>\n",
       "<table border=\"1\" class=\"dataframe\">\n",
       "  <thead>\n",
       "    <tr style=\"text-align: right;\">\n",
       "      <th></th>\n",
       "      <th>rank</th>\n",
       "      <th>apple</th>\n",
       "      <th>billboard</th>\n",
       "      <th>spotify</th>\n",
       "    </tr>\n",
       "  </thead>\n",
       "  <tbody>\n",
       "    <tr>\n",
       "      <th>0</th>\n",
       "      <td>1</td>\n",
       "      <td>Roddy Ricch</td>\n",
       "      <td>BTS</td>\n",
       "      <td>The Weeknd</td>\n",
       "    </tr>\n",
       "    <tr>\n",
       "      <th>1</th>\n",
       "      <td>2</td>\n",
       "      <td>Lil Uzi Vert</td>\n",
       "      <td>YoungBoy Never Broke Again</td>\n",
       "      <td>Roddy Ricch</td>\n",
       "    </tr>\n",
       "    <tr>\n",
       "      <th>2</th>\n",
       "      <td>3</td>\n",
       "      <td>Lil Baby</td>\n",
       "      <td>Ozzy Osbourne</td>\n",
       "      <td>Tones and I</td>\n",
       "    </tr>\n",
       "    <tr>\n",
       "      <th>3</th>\n",
       "      <td>4</td>\n",
       "      <td>Lil Baby &amp; Gunna</td>\n",
       "      <td>Justin Bieber</td>\n",
       "      <td>Dua Lipa</td>\n",
       "    </tr>\n",
       "    <tr>\n",
       "      <th>4</th>\n",
       "      <td>5</td>\n",
       "      <td>The Weeknd</td>\n",
       "      <td>Roddy Ricch</td>\n",
       "      <td>Justin Bieber</td>\n",
       "    </tr>\n",
       "  </tbody>\n",
       "</table>\n",
       "</div>"
      ],
      "text/plain": [
       "   rank             apple                   billboard        spotify\n",
       "0     1       Roddy Ricch                         BTS     The Weeknd\n",
       "1     2      Lil Uzi Vert  YoungBoy Never Broke Again    Roddy Ricch\n",
       "2     3          Lil Baby               Ozzy Osbourne    Tones and I\n",
       "3     4  Lil Baby & Gunna               Justin Bieber       Dua Lipa\n",
       "4     5        The Weeknd                 Roddy Ricch  Justin Bieber"
      ]
     },
     "execution_count": 25,
     "metadata": {},
     "output_type": "execute_result"
    }
   ],
   "source": [
    "#Normalize formatting for SQL\n",
    "artists = all_df[['rank','Apple Artist','Billboard Artist','Spotify Artist']]\n",
    "artists = artists.rename(columns = {'Apple Artist':'apple',\n",
    "                                    'Billboard Artist':'billboard',\n",
    "                                    'Spotify Artist':'spotify'})\n",
    "\n",
    "artists.head()"
   ]
  },
  {
   "cell_type": "markdown",
   "metadata": {},
   "source": [
    "# Load Dataframes in DB"
   ]
  },
  {
   "cell_type": "code",
   "execution_count": 26,
   "metadata": {},
   "outputs": [],
   "source": [
    "from sqlalchemy import create_engine\n",
    "import psycopg2"
   ]
  },
  {
   "cell_type": "code",
   "execution_count": 27,
   "metadata": {},
   "outputs": [],
   "source": [
    "#Create engine\n",
    "rds_connection_string = \"postgres:postgres@localhost:5432/top_100\"\n",
    "engine = create_engine(f'postgresql://{rds_connection_string}')"
   ]
  },
  {
   "cell_type": "code",
   "execution_count": 28,
   "metadata": {},
   "outputs": [
    {
     "data": {
      "text/plain": [
       "['top_songs', 'artists']"
      ]
     },
     "execution_count": 28,
     "metadata": {},
     "output_type": "execute_result"
    }
   ],
   "source": [
    "#List DB's tables\n",
    "engine.table_names()"
   ]
  },
  {
   "cell_type": "code",
   "execution_count": 29,
   "metadata": {},
   "outputs": [],
   "source": [
    "#Load data into top_songs table\n",
    "engine.execute(\"DELETE from top_songs\") #NEEDED IF SCROPT RAN MULTIPLE TIMES\n",
    "top_songs.to_sql(name='top_songs', con=engine, if_exists='append', index=False)"
   ]
  },
  {
   "cell_type": "code",
   "execution_count": 31,
   "metadata": {},
   "outputs": [],
   "source": [
    "#Load data into top_songs table\n",
    "engine.execute(\"DELETE from artists\") #NEEDED IF SCROPT RAN MULTIPLE TIMES\n",
    "artists.to_sql(name='artists', con=engine, if_exists='append', index=False)"
   ]
  },
  {
   "cell_type": "markdown",
   "metadata": {},
   "source": [
    "#### Confirm data has been added to DB"
   ]
  },
  {
   "cell_type": "code",
   "execution_count": 32,
   "metadata": {},
   "outputs": [
    {
     "data": {
      "text/html": [
       "<div>\n",
       "<style scoped>\n",
       "    .dataframe tbody tr th:only-of-type {\n",
       "        vertical-align: middle;\n",
       "    }\n",
       "\n",
       "    .dataframe tbody tr th {\n",
       "        vertical-align: top;\n",
       "    }\n",
       "\n",
       "    .dataframe thead th {\n",
       "        text-align: right;\n",
       "    }\n",
       "</style>\n",
       "<table border=\"1\" class=\"dataframe\">\n",
       "  <thead>\n",
       "    <tr style=\"text-align: right;\">\n",
       "      <th></th>\n",
       "      <th>rank</th>\n",
       "      <th>apple</th>\n",
       "      <th>billboard</th>\n",
       "      <th>spotify</th>\n",
       "    </tr>\n",
       "  </thead>\n",
       "  <tbody>\n",
       "    <tr>\n",
       "      <th>0</th>\n",
       "      <td>1</td>\n",
       "      <td>The Box</td>\n",
       "      <td>MAP OF THE SOUL : 7</td>\n",
       "      <td>Blinding Lights</td>\n",
       "    </tr>\n",
       "    <tr>\n",
       "      <th>1</th>\n",
       "      <td>2</td>\n",
       "      <td>That Way</td>\n",
       "      <td>Still Flexin, Still Steppin</td>\n",
       "      <td>The Box</td>\n",
       "    </tr>\n",
       "    <tr>\n",
       "      <th>2</th>\n",
       "      <td>3</td>\n",
       "      <td>Commercial (feat. Lil Uzi Vert)</td>\n",
       "      <td>Ordinary Man</td>\n",
       "      <td>Dance Monkey</td>\n",
       "    </tr>\n",
       "    <tr>\n",
       "      <th>3</th>\n",
       "      <td>4</td>\n",
       "      <td>Heatin Up</td>\n",
       "      <td>Changes</td>\n",
       "      <td>Don't Start Now</td>\n",
       "    </tr>\n",
       "    <tr>\n",
       "      <th>4</th>\n",
       "      <td>5</td>\n",
       "      <td>Blinding Lights</td>\n",
       "      <td>Please Excuse Me For Being Antisocial</td>\n",
       "      <td>Intentions (feat. Quavo)</td>\n",
       "    </tr>\n",
       "  </tbody>\n",
       "</table>\n",
       "</div>"
      ],
      "text/plain": [
       "   rank                              apple  \\\n",
       "0     1                            The Box   \n",
       "1     2                           That Way   \n",
       "2     3    Commercial (feat. Lil Uzi Vert)   \n",
       "3     4                          Heatin Up   \n",
       "4     5                    Blinding Lights   \n",
       "\n",
       "                               billboard                   spotify  \n",
       "0                    MAP OF THE SOUL : 7           Blinding Lights  \n",
       "1            Still Flexin, Still Steppin                   The Box  \n",
       "2                           Ordinary Man              Dance Monkey  \n",
       "3                                Changes           Don't Start Now  \n",
       "4  Please Excuse Me For Being Antisocial  Intentions (feat. Quavo)  "
      ]
     },
     "execution_count": 32,
     "metadata": {},
     "output_type": "execute_result"
    }
   ],
   "source": [
    "pd.read_sql_query('select * from top_songs', con=engine).head()"
   ]
  },
  {
   "cell_type": "code",
   "execution_count": 33,
   "metadata": {},
   "outputs": [
    {
     "data": {
      "text/html": [
       "<div>\n",
       "<style scoped>\n",
       "    .dataframe tbody tr th:only-of-type {\n",
       "        vertical-align: middle;\n",
       "    }\n",
       "\n",
       "    .dataframe tbody tr th {\n",
       "        vertical-align: top;\n",
       "    }\n",
       "\n",
       "    .dataframe thead th {\n",
       "        text-align: right;\n",
       "    }\n",
       "</style>\n",
       "<table border=\"1\" class=\"dataframe\">\n",
       "  <thead>\n",
       "    <tr style=\"text-align: right;\">\n",
       "      <th></th>\n",
       "      <th>rank</th>\n",
       "      <th>apple</th>\n",
       "      <th>billboard</th>\n",
       "      <th>spotify</th>\n",
       "    </tr>\n",
       "  </thead>\n",
       "  <tbody>\n",
       "    <tr>\n",
       "      <th>0</th>\n",
       "      <td>1</td>\n",
       "      <td>Roddy Ricch</td>\n",
       "      <td>BTS</td>\n",
       "      <td>The Weeknd</td>\n",
       "    </tr>\n",
       "    <tr>\n",
       "      <th>1</th>\n",
       "      <td>2</td>\n",
       "      <td>Lil Uzi Vert</td>\n",
       "      <td>YoungBoy Never Broke Again</td>\n",
       "      <td>Roddy Ricch</td>\n",
       "    </tr>\n",
       "    <tr>\n",
       "      <th>2</th>\n",
       "      <td>3</td>\n",
       "      <td>Lil Baby</td>\n",
       "      <td>Ozzy Osbourne</td>\n",
       "      <td>Tones and I</td>\n",
       "    </tr>\n",
       "    <tr>\n",
       "      <th>3</th>\n",
       "      <td>4</td>\n",
       "      <td>Lil Baby &amp; Gunna</td>\n",
       "      <td>Justin Bieber</td>\n",
       "      <td>Dua Lipa</td>\n",
       "    </tr>\n",
       "    <tr>\n",
       "      <th>4</th>\n",
       "      <td>5</td>\n",
       "      <td>The Weeknd</td>\n",
       "      <td>Roddy Ricch</td>\n",
       "      <td>Justin Bieber</td>\n",
       "    </tr>\n",
       "  </tbody>\n",
       "</table>\n",
       "</div>"
      ],
      "text/plain": [
       "   rank             apple                   billboard        spotify\n",
       "0     1       Roddy Ricch                         BTS     The Weeknd\n",
       "1     2      Lil Uzi Vert  YoungBoy Never Broke Again    Roddy Ricch\n",
       "2     3          Lil Baby               Ozzy Osbourne    Tones and I\n",
       "3     4  Lil Baby & Gunna               Justin Bieber       Dua Lipa\n",
       "4     5        The Weeknd                 Roddy Ricch  Justin Bieber"
      ]
     },
     "execution_count": 33,
     "metadata": {},
     "output_type": "execute_result"
    }
   ],
   "source": [
    "pd.read_sql_query('select * from artists', con=engine).head()"
   ]
  },
  {
   "cell_type": "code",
   "execution_count": null,
   "metadata": {},
   "outputs": [],
   "source": []
  }
 ],
 "metadata": {
  "kernelspec": {
   "display_name": "Python [conda env:PythonData]",
   "language": "python",
   "name": "conda-env-PythonData-py"
  },
  "language_info": {
   "codemirror_mode": {
    "name": "ipython",
    "version": 3
   },
   "file_extension": ".py",
   "mimetype": "text/x-python",
   "name": "python",
   "nbconvert_exporter": "python",
   "pygments_lexer": "ipython3",
   "version": "3.6.9"
  }
 },
 "nbformat": 4,
 "nbformat_minor": 2
}
